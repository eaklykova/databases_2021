{
 "cells": [
  {
   "cell_type": "markdown",
   "id": "27bc4e0b",
   "metadata": {},
   "source": [
    "# Диахронические датасеты НКРЯ\n",
    "### Выполнила Елизавета Клыкова, БКЛ-181\n",
    "\n",
    "**Требования:**\n",
    "* ✔ 2 - нереляционная БД\n",
    "* ? 2 - красивая структура БД\n",
    "* ✔ 2 - интерфейс позволяет класть, доставать, удалять данные (проводить операции CRUD -- Create, Read, Update, Delete)\n",
    "* ✔ 2 - два действия помимо CRUD (сортировка, группировка, агрегация, ...)\n",
    "* ✔ 2 - зависит от БД:\n",
    "    * MongoDB, ElasticSearch -- работа с текстами или географией\n",
    "\n",
    "**Причины выбора Mongo:**\n",
    "- умеет работать с текстами\n",
    "- популярна в продакшене\n",
    "- простой интерфейс\n",
    "- более гибкая, чем ElasticSearch\n",
    "- ElasticSearch так и не заработал :("
   ]
  },
  {
   "cell_type": "markdown",
   "id": "4056af77",
   "metadata": {},
   "source": [
    "## Импорты"
   ]
  },
  {
   "cell_type": "code",
   "execution_count": 1,
   "id": "04fc1ef4",
   "metadata": {},
   "outputs": [],
   "source": [
    "# !pip install pymongo\n",
    "# !pip install stanza"
   ]
  },
  {
   "cell_type": "code",
   "execution_count": 2,
   "id": "2d24a95a",
   "metadata": {},
   "outputs": [],
   "source": [
    "import pymongo\n",
    "\n",
    "import pandas as pd\n",
    "import numpy as np\n",
    "\n",
    "import stanza\n",
    "\n",
    "import matplotlib.pyplot as plt\n",
    "from pprint import pprint\n",
    "from tqdm.auto import tqdm"
   ]
  },
  {
   "cell_type": "markdown",
   "id": "1bd7dd80",
   "metadata": {},
   "source": [
    "## О датасете\n",
    "[Диахронические датасеты НКРЯ](https://ruscorpora.ru/new/corpora-usage.html) доступны для использования в учебных и научных целях после подписания лицензионного соглашения. Это набор данных из трех частей, соответствующих трем периодам: досоветскому (1688-1916), советскому (1918-1990) и постсоветскому (1992-2016).\n",
    "\n",
    "Получить доступ к датасетам вовремя не получилось, поэтому для заполнения базы будем использовать небольшую выборку примеров с глаголом \"приехать\"."
   ]
  },
  {
   "cell_type": "code",
   "execution_count": 3,
   "id": "e80ad90e",
   "metadata": {},
   "outputs": [
    {
     "data": {
      "text/html": [
       "<div>\n",
       "<style scoped>\n",
       "    .dataframe tbody tr th:only-of-type {\n",
       "        vertical-align: middle;\n",
       "    }\n",
       "\n",
       "    .dataframe tbody tr th {\n",
       "        vertical-align: top;\n",
       "    }\n",
       "\n",
       "    .dataframe thead th {\n",
       "        text-align: right;\n",
       "    }\n",
       "</style>\n",
       "<table border=\"1\" class=\"dataframe\">\n",
       "  <thead>\n",
       "    <tr style=\"text-align: right;\">\n",
       "      <th></th>\n",
       "      <th>Author</th>\n",
       "      <th>Header</th>\n",
       "      <th>Sphere</th>\n",
       "      <th>Type</th>\n",
       "      <th>Topic</th>\n",
       "      <th>Medium</th>\n",
       "      <th>Full context</th>\n",
       "    </tr>\n",
       "  </thead>\n",
       "  <tbody>\n",
       "    <tr>\n",
       "      <th>420</th>\n",
       "      <td>Юрий Давыдов</td>\n",
       "      <td>Синие тюльпаны</td>\n",
       "      <td>художественная</td>\n",
       "      <td>роман</td>\n",
       "      <td>NaN</td>\n",
       "      <td>книга</td>\n",
       "      <td>Пришлёт, я, не мешкая, приеду с оценочной коми...</td>\n",
       "    </tr>\n",
       "    <tr>\n",
       "      <th>278</th>\n",
       "      <td>Андрей Волос</td>\n",
       "      <td>Недвижимость</td>\n",
       "      <td>художественная</td>\n",
       "      <td>роман</td>\n",
       "      <td>NaN</td>\n",
       "      <td>журнал</td>\n",
       "      <td>Ладно.  Точно приедете?  ― Да о чём речь! ― во...</td>\n",
       "    </tr>\n",
       "    <tr>\n",
       "      <th>597</th>\n",
       "      <td>Юрий Трифонов</td>\n",
       "      <td>Предварительные итоги</td>\n",
       "      <td>художественная</td>\n",
       "      <td>повесть</td>\n",
       "      <td>NaN</td>\n",
       "      <td>книга</td>\n",
       "      <td>Нюра осталась одна одиннадцати лет, не понимал...</td>\n",
       "    </tr>\n",
       "    <tr>\n",
       "      <th>243</th>\n",
       "      <td>NaN</td>\n",
       "      <td>Мстислав Ростропович: «Это особое ощущение, ко...</td>\n",
       "      <td>публицистика | нехудожественная</td>\n",
       "      <td>интервью</td>\n",
       "      <td>искусство и культура</td>\n",
       "      <td>газета</td>\n",
       "      <td>Сейчас, например, могу сказать, что приехал до...</td>\n",
       "    </tr>\n",
       "    <tr>\n",
       "      <th>46</th>\n",
       "      <td>Сергей Козлов</td>\n",
       "      <td>Как Ёжик с Медвежонком спасли Волка</td>\n",
       "      <td>художественная</td>\n",
       "      <td>сказка</td>\n",
       "      <td>NaN</td>\n",
       "      <td>журнал</td>\n",
       "      <td>.. \"Хорошо ему, ― подумал Волк, ― уши у него н...</td>\n",
       "    </tr>\n",
       "  </tbody>\n",
       "</table>\n",
       "</div>"
      ],
      "text/plain": [
       "            Author                                             Header  \\\n",
       "420   Юрий Давыдов                                     Синие тюльпаны   \n",
       "278   Андрей Волос                                       Недвижимость   \n",
       "597  Юрий Трифонов                              Предварительные итоги   \n",
       "243            NaN  Мстислав Ростропович: «Это особое ощущение, ко...   \n",
       "46   Сергей Козлов                Как Ёжик с Медвежонком спасли Волка   \n",
       "\n",
       "                              Sphere      Type                 Topic  Medium  \\\n",
       "420                   художественная     роман                   NaN   книга   \n",
       "278                   художественная     роман                   NaN  журнал   \n",
       "597                   художественная   повесть                   NaN   книга   \n",
       "243  публицистика | нехудожественная  интервью  искусство и культура  газета   \n",
       "46                    художественная    сказка                   NaN  журнал   \n",
       "\n",
       "                                          Full context  \n",
       "420  Пришлёт, я, не мешкая, приеду с оценочной коми...  \n",
       "278  Ладно.  Точно приедете?  ― Да о чём речь! ― во...  \n",
       "597  Нюра осталась одна одиннадцати лет, не понимал...  \n",
       "243  Сейчас, например, могу сказать, что приехал до...  \n",
       "46   .. \"Хорошо ему, ― подумал Волк, ― уши у него н...  "
      ]
     },
     "execution_count": 3,
     "metadata": {},
     "output_type": "execute_result"
    }
   ],
   "source": [
    "df = pd.read_csv('ruscorpora_content.csv', sep=';')\n",
    "df = df[['Author', 'Header', 'Sphere', 'Type', 'Topic', 'Medium', 'Full context']]\n",
    "df.sample(5)"
   ]
  },
  {
   "cell_type": "markdown",
   "id": "cbdfc29d",
   "metadata": {},
   "source": [
    "Имитируя структуру диахронического датасета, разделим датафрейм на три части. Поскольку предложения в файле отсортированы от новых к старым, первую треть будем считать за постсоветский период, а последнюю -- за досоветский."
   ]
  },
  {
   "cell_type": "code",
   "execution_count": 4,
   "id": "29873e73",
   "metadata": {},
   "outputs": [],
   "source": [
    "pre_soviet, soviet, post_soviet = np.array_split(df, 3)"
   ]
  },
  {
   "cell_type": "code",
   "execution_count": 5,
   "id": "a9fafd27",
   "metadata": {},
   "outputs": [],
   "source": [
    "pre_soviet['Period'] = 0\n",
    "soviet['Period'] = 1\n",
    "post_soviet['Period'] = 2"
   ]
  },
  {
   "cell_type": "code",
   "execution_count": 6,
   "id": "b1badc5c",
   "metadata": {},
   "outputs": [
    {
     "data": {
      "text/html": [
       "<div>\n",
       "<style scoped>\n",
       "    .dataframe tbody tr th:only-of-type {\n",
       "        vertical-align: middle;\n",
       "    }\n",
       "\n",
       "    .dataframe tbody tr th {\n",
       "        vertical-align: top;\n",
       "    }\n",
       "\n",
       "    .dataframe thead th {\n",
       "        text-align: right;\n",
       "    }\n",
       "</style>\n",
       "<table border=\"1\" class=\"dataframe\">\n",
       "  <thead>\n",
       "    <tr style=\"text-align: right;\">\n",
       "      <th></th>\n",
       "      <th>Author</th>\n",
       "      <th>Header</th>\n",
       "      <th>Sphere</th>\n",
       "      <th>Type</th>\n",
       "      <th>Topic</th>\n",
       "      <th>Medium</th>\n",
       "      <th>Full context</th>\n",
       "      <th>Period</th>\n",
       "    </tr>\n",
       "  </thead>\n",
       "  <tbody>\n",
       "    <tr>\n",
       "      <th>0</th>\n",
       "      <td>коллективный</td>\n",
       "      <td>Форум: Были вы в стране преподаваемого языка?</td>\n",
       "      <td>электронная коммуникация | нехудожественная</td>\n",
       "      <td>форум</td>\n",
       "      <td>образование | путешествия</td>\n",
       "      <td>электронный текст</td>\n",
       "      <td>[patrol, nick]  И, естественно, приехав в Росс...</td>\n",
       "      <td>0</td>\n",
       "    </tr>\n",
       "    <tr>\n",
       "      <th>1</th>\n",
       "      <td>коллективный</td>\n",
       "      <td>Форум: Были вы в стране преподаваемого языка?</td>\n",
       "      <td>электронная коммуникация | нехудожественная</td>\n",
       "      <td>форум</td>\n",
       "      <td>образование | путешествия</td>\n",
       "      <td>электронный текст</td>\n",
       "      <td>[Джула, nick]  И где гарантия, что, приехав в ...</td>\n",
       "      <td>0</td>\n",
       "    </tr>\n",
       "    <tr>\n",
       "      <th>2</th>\n",
       "      <td>коллективный</td>\n",
       "      <td>Форум: комментарии к фильму «Все будет хорошо»</td>\n",
       "      <td>электронная коммуникация | нехудожественная</td>\n",
       "      <td>комментарии</td>\n",
       "      <td>досуг, зрелища и развлечения | искусство и кул...</td>\n",
       "      <td>электронный текст</td>\n",
       "      <td>[anutikmor, жен] !! Приехал к ним в гости милл...</td>\n",
       "      <td>0</td>\n",
       "    </tr>\n",
       "    <tr>\n",
       "      <th>3</th>\n",
       "      <td>коллективный</td>\n",
       "      <td>Форум: комментарии к фильму «Все будет хорошо»</td>\n",
       "      <td>электронная коммуникация | нехудожественная</td>\n",
       "      <td>комментарии</td>\n",
       "      <td>досуг, зрелища и развлечения | искусство и кул...</td>\n",
       "      <td>электронный текст</td>\n",
       "      <td>[anutikmor, жен]  Приехал миллионер к своей пе...</td>\n",
       "      <td>0</td>\n",
       "    </tr>\n",
       "    <tr>\n",
       "      <th>4</th>\n",
       "      <td>коллективный</td>\n",
       "      <td>Форум: комментарии к фильму «Все будет хорошо»</td>\n",
       "      <td>электронная коммуникация | нехудожественная</td>\n",
       "      <td>комментарии</td>\n",
       "      <td>досуг, зрелища и развлечения | искусство и кул...</td>\n",
       "      <td>электронный текст</td>\n",
       "      <td>[awesom13]  Каждая семья здесь имеет свою исто...</td>\n",
       "      <td>0</td>\n",
       "    </tr>\n",
       "  </tbody>\n",
       "</table>\n",
       "</div>"
      ],
      "text/plain": [
       "         Author                                          Header  \\\n",
       "0  коллективный   Форум: Были вы в стране преподаваемого языка?   \n",
       "1  коллективный   Форум: Были вы в стране преподаваемого языка?   \n",
       "2  коллективный  Форум: комментарии к фильму «Все будет хорошо»   \n",
       "3  коллективный  Форум: комментарии к фильму «Все будет хорошо»   \n",
       "4  коллективный  Форум: комментарии к фильму «Все будет хорошо»   \n",
       "\n",
       "                                        Sphere         Type  \\\n",
       "0  электронная коммуникация | нехудожественная        форум   \n",
       "1  электронная коммуникация | нехудожественная        форум   \n",
       "2  электронная коммуникация | нехудожественная  комментарии   \n",
       "3  электронная коммуникация | нехудожественная  комментарии   \n",
       "4  электронная коммуникация | нехудожественная  комментарии   \n",
       "\n",
       "                                               Topic             Medium  \\\n",
       "0                          образование | путешествия  электронный текст   \n",
       "1                          образование | путешествия  электронный текст   \n",
       "2  досуг, зрелища и развлечения | искусство и кул...  электронный текст   \n",
       "3  досуг, зрелища и развлечения | искусство и кул...  электронный текст   \n",
       "4  досуг, зрелища и развлечения | искусство и кул...  электронный текст   \n",
       "\n",
       "                                        Full context  Period  \n",
       "0  [patrol, nick]  И, естественно, приехав в Росс...       0  \n",
       "1  [Джула, nick]  И где гарантия, что, приехав в ...       0  \n",
       "2  [anutikmor, жен] !! Приехал к ним в гости милл...       0  \n",
       "3  [anutikmor, жен]  Приехал миллионер к своей пе...       0  \n",
       "4  [awesom13]  Каждая семья здесь имеет свою исто...       0  "
      ]
     },
     "execution_count": 6,
     "metadata": {},
     "output_type": "execute_result"
    }
   ],
   "source": [
    "sent_df = pd.concat([pre_soviet, soviet, post_soviet], ignore_index=True)\n",
    "sent_df.head()"
   ]
  },
  {
   "cell_type": "markdown",
   "id": "80dc937f",
   "metadata": {},
   "source": [
    "## Работа с базой"
   ]
  },
  {
   "cell_type": "markdown",
   "id": "7ecab3dd",
   "metadata": {},
   "source": [
    "### Подключение к базе"
   ]
  },
  {
   "cell_type": "code",
   "execution_count": 7,
   "id": "827305e3",
   "metadata": {},
   "outputs": [
    {
     "data": {
      "text/plain": [
       "Database(MongoClient(host=['localhost:27017'], document_class=dict, tz_aware=False, connect=True), 'diachronic_datasets')"
      ]
     },
     "execution_count": 7,
     "metadata": {},
     "output_type": "execute_result"
    }
   ],
   "source": [
    "client = pymongo.MongoClient('localhost', 27017)\n",
    "db = client['diachronic_datasets']\n",
    "db"
   ]
  },
  {
   "cell_type": "markdown",
   "id": "6e863755",
   "metadata": {},
   "source": [
    "### Создание коллекций\n",
    "\n",
    "Коллекция prefixes содержит поля:\n",
    "* prefix_name -- собственно текст приставки\n",
    "* senses -- список значений приставки\n",
    "\n",
    "Значения приставок взяты из [онлайн-версии словаря Ожегова](http://www.slovorod.ru/dic-ozhegov/index.html)."
   ]
  },
  {
   "cell_type": "code",
   "execution_count": 8,
   "id": "29d6ad17",
   "metadata": {},
   "outputs": [],
   "source": [
    "prefixes = db.prefixes\n",
    "sentences = db.sentences\n",
    "lemmas = db.lemmas\n",
    "tokens = db.tokens"
   ]
  },
  {
   "cell_type": "code",
   "execution_count": 9,
   "id": "4992e7a7",
   "metadata": {},
   "outputs": [
    {
     "data": {
      "text/plain": [
       "<pymongo.results.DeleteResult at 0x200233d4a40>"
      ]
     },
     "execution_count": 9,
     "metadata": {},
     "output_type": "execute_result"
    }
   ],
   "source": [
    "prefixes.delete_many({})\n",
    "sentences.delete_many({})\n",
    "lemmas.delete_many({})\n",
    "tokens.delete_many({})"
   ]
  },
  {
   "cell_type": "markdown",
   "id": "85e68905",
   "metadata": {},
   "source": [
    "#### Работа с приставками"
   ]
  },
  {
   "cell_type": "code",
   "execution_count": 10,
   "id": "8136687d",
   "metadata": {},
   "outputs": [],
   "source": [
    "class Prefix:\n",
    "\n",
    "    def __init__(self, prefix_name, senses):\n",
    "        self.prefix_name = prefix_name\n",
    "        self.senses = senses\n",
    "\n",
    "    def to_dict(self):\n",
    "        return {'prefix_name': self.prefix_name,\n",
    "                'senses': self.senses}"
   ]
  },
  {
   "cell_type": "code",
   "execution_count": 11,
   "id": "a05f769b",
   "metadata": {},
   "outputs": [],
   "source": [
    "prefix_pri = Prefix('при',\n",
    "                    ['доведения действия до конечной цели, напр. приехать, приблизиться, прибрести, приплестись;',\n",
    "                     'добавления, сближения, скрепления чего-н. с чем-н., напр. приземлить, пристроить, приделать, припечатать, приложить, привинтить;',\n",
    "                     'направления действия к себе, совершения действия в своих интересах, напр. пригласить, присвоить;',\n",
    "                     'в сочетании с постфиксом -ся - освоенности действия, напр. прижиться, принюхаться, приспособиться, приноровиться;',\n",
    "                     'направления действия на предмет сверху вниз, напр. придавить, прижать;',\n",
    "                     'полноты, законченности действия, напр. приучить, приохотить;',\n",
    "                     'неполной, слабой меры действия, напр. привстать, прихворнуть, прикопить, припудрить, приутихнуть, приоткрыть;',\n",
    "                     'вместе с суффиксами -ыва-, -ива- - сопутствующего действия, напр. приговаривать, приплясывать.'])\n",
    "prefix_na = Prefix('на',\n",
    "                   ['направленности действия на что-н., напр. накинуть, -накатить, налететь, набросить;',\n",
    "                    'полноты действия и большого количества его объектов, напр. наговорить, накупить, народить, напрясть, накомкать, накидать;',\n",
    "                    'проявления действия в незначительной степени, слабо, неинтенсивно, напр. напевать, наигрывать, насвистывать, накрапывать;',\n",
    "                    'с постфиксом \"ся\" - полной завершенности действия, удовлетворенности им, напр. наесться, навоеваться, нашалиться;',\n",
    "                    'тщательности или интенсивности действия, напр. начистить (пуговицы), нагладить (рубашку), наговаривать, названивать;',\n",
    "                    'приучения к действию, напр. натренировать, наездить (лошадь), намуштровать;',\n",
    "                    'собственно предела действия, напр. написать, нарисовать, начертить, намочить, насмешить, напугать.'])\n",
    "prefix_s = Prefix('с',\n",
    "                  ['движения с разных сторон к одной точке, соединения в одном месте, напр. связасть, сгрести, спаять, сплести, скрепить;',\n",
    "                   'движения сверху вниз, напр. спрыгнуть, слезть, ссадить, сбросить;',\n",
    "                   'удаления чего-н. с какого-н. места, с поверхности, напр. скосить, срезать, сбрить;',\n",
    "                   'вместе с постфиксом -ся - взаимного действия или соединения, напр. сработаться, сговориться, списаться, слипнуться, смерзнуться;',\n",
    "                   'воспроизведения чего-н. по какому-н. образцу, напр. срисовать, скопировать, счертить;',\n",
    "                   'придания признака, напр. скособочить, снизить, скривить;',\n",
    "                   'вместе с суффиксом -ну- - однократности, напр. сболтнуть, сбрехнуть, сполоснуть;',\n",
    "                   'собственно предела действия, напр. сделать, спеть, сыграть; то же - с постфиксом -ся и суффиксом -и-, напр., сжалиться, смилостивиться.'])"
   ]
  },
  {
   "cell_type": "code",
   "execution_count": 12,
   "id": "83b24414",
   "metadata": {},
   "outputs": [
    {
     "data": {
      "text/plain": [
       "'prefix_name_1'"
      ]
     },
     "execution_count": 12,
     "metadata": {},
     "output_type": "execute_result"
    }
   ],
   "source": [
    "prefixes.create_index([('prefix_name', pymongo.ASCENDING)], unique=True)"
   ]
  },
  {
   "cell_type": "code",
   "execution_count": 13,
   "id": "cbc5695c",
   "metadata": {},
   "outputs": [],
   "source": [
    "prefix_list = [prefix_pri, prefix_na, prefix_s]"
   ]
  },
  {
   "cell_type": "code",
   "execution_count": 14,
   "id": "72d9f651",
   "metadata": {},
   "outputs": [
    {
     "data": {
      "text/plain": [
       "<pymongo.results.InsertManyResult at 0x2002346fa80>"
      ]
     },
     "execution_count": 14,
     "metadata": {},
     "output_type": "execute_result"
    }
   ],
   "source": [
    "prefixes.insert_many([{'prefix_name': prefix.prefix_name,\n",
    "                       'senses': prefix.senses}\n",
    "                      for prefix in prefix_list])"
   ]
  },
  {
   "cell_type": "code",
   "execution_count": 15,
   "id": "f65a711d",
   "metadata": {},
   "outputs": [
    {
     "data": {
      "text/plain": [
       "3"
      ]
     },
     "execution_count": 15,
     "metadata": {},
     "output_type": "execute_result"
    }
   ],
   "source": [
    "prefixes.count_documents({})"
   ]
  },
  {
   "cell_type": "markdown",
   "id": "b19247ce",
   "metadata": {},
   "source": [
    "#### Предложения\n",
    "Коллекция sentences содержит поля:\n",
    "* text -- собственно текст\n",
    "* period -- период, к которому относится предложение (0, 1 или 2)\n",
    "* другие поля, которые для диплома не нужны :)"
   ]
  },
  {
   "cell_type": "code",
   "execution_count": 16,
   "id": "54c399e0",
   "metadata": {},
   "outputs": [],
   "source": [
    "class Sentence:\n",
    "\n",
    "    def __init__(self, author, header, sphere, ttype, topic, medium, sentence, period):\n",
    "        self.author = author\n",
    "        self.header = header\n",
    "        if isinstance(sphere, str):\n",
    "            self.sphere = [sph.strip() for sph in sphere.split('|')][0]\n",
    "        else:\n",
    "            self.sphere = sphere\n",
    "        self.ttype = ttype\n",
    "        if isinstance(topic, str):\n",
    "            self.topic = [top.strip() for top in topic.split('|')]\n",
    "        else:\n",
    "            self.topic = topic\n",
    "        self.medium = medium\n",
    "        self.text = sentence\n",
    "        self.period = period\n",
    "\n",
    "    def to_dict(self):\n",
    "        return {'author': self.author,\n",
    "                'header': self.header,\n",
    "                'sphere': self.sphere,\n",
    "                'ttype': self.ttype,\n",
    "                'topic': self.topic,\n",
    "                'medium': self.medium,\n",
    "                'text': self.text,\n",
    "                'period': self.period}"
   ]
  },
  {
   "cell_type": "code",
   "execution_count": 17,
   "id": "8ae709dc",
   "metadata": {},
   "outputs": [],
   "source": [
    "sentence_list = [Sentence(author, header, sphere, ttype, topic, medium, sentence, period)\n",
    "                 for [author, header, sphere, ttype, topic, medium, sentence, period] in sent_df.values.tolist()]"
   ]
  },
  {
   "cell_type": "markdown",
   "id": "c75a2c68",
   "metadata": {},
   "source": [
    "#### Леммы и токены\n",
    "\n",
    "Коллекция lemmas содержит поля:\n",
    "* lemma -- начальная форма\n",
    "* pos -- часть речи\n",
    "* freq -- частотность (абсолютная)\n",
    "* docs -- id предложений, содержащих лемму\n",
    "\n",
    "Коллекция tokens содержит поля:\n",
    "* token -- словоформа\n",
    "* lemma -- начальная форма\n",
    "* pos -- часть речи\n",
    "* открытый список полей с грамматической информацией"
   ]
  },
  {
   "cell_type": "code",
   "execution_count": 18,
   "id": "2ea1d492",
   "metadata": {},
   "outputs": [
    {
     "data": {
      "text/plain": [
       "'lemma_1_pos_1'"
      ]
     },
     "execution_count": 18,
     "metadata": {},
     "output_type": "execute_result"
    }
   ],
   "source": [
    "# индексируем\n",
    "lemmas.create_index([('lemma', pymongo.ASCENDING),\n",
    "                     ('pos', pymongo.ASCENDING)], unique=True)"
   ]
  },
  {
   "cell_type": "code",
   "execution_count": 19,
   "id": "5a9b439a",
   "metadata": {},
   "outputs": [
    {
     "data": {
      "text/plain": [
       "'token_1_lemma_1_pos_1'"
      ]
     },
     "execution_count": 19,
     "metadata": {},
     "output_type": "execute_result"
    }
   ],
   "source": [
    "# индексируем без unique constraint, т.к. не хочется прописывать все возможные поля\n",
    "tokens.create_index([('token', pymongo.ASCENDING),\n",
    "                     ('lemma', pymongo.ASCENDING),\n",
    "                     ('pos', pymongo.ASCENDING)])"
   ]
  },
  {
   "cell_type": "code",
   "execution_count": 20,
   "id": "b541c15e",
   "metadata": {},
   "outputs": [
    {
     "name": "stderr",
     "output_type": "stream",
     "text": [
      "2022-03-31 14:07:45 INFO: Loading these models for language: ru (Russian):\n",
      "=========================\n",
      "| Processor | Package   |\n",
      "-------------------------\n",
      "| tokenize  | syntagrus |\n",
      "| pos       | syntagrus |\n",
      "| lemma     | syntagrus |\n",
      "=========================\n",
      "\n",
      "2022-03-31 14:07:46 INFO: Use device: gpu\n",
      "2022-03-31 14:07:46 INFO: Loading: tokenize\n",
      "2022-03-31 14:07:48 INFO: Loading: pos\n",
      "2022-03-31 14:07:48 INFO: Loading: lemma\n",
      "2022-03-31 14:07:48 INFO: Done loading processors!\n"
     ]
    }
   ],
   "source": [
    "# stanza.download('ru')\n",
    "nlp = stanza.Pipeline('ru', processors='tokenize,pos,lemma', tokenize_no_ssplit=True)"
   ]
  },
  {
   "cell_type": "code",
   "execution_count": 21,
   "id": "4e0cd4b0",
   "metadata": {},
   "outputs": [],
   "source": [
    "def parse_with_stanza(nlp, sentence):\n",
    "    doc = nlp(sentence)\n",
    "    tok_info = []\n",
    "    for i, sent in enumerate(doc.sentences):\n",
    "        for token in sent.tokens:\n",
    "            tok_dict = {'text': token.text,\n",
    "#                         'ind': token.id[0] - 1,\n",
    "#                         'start': token.start_char,\n",
    "#                         'end': token.end_char,\n",
    "                        'pos': token.words[0].upos,\n",
    "                        'lemma': token.words[0].lemma}\n",
    "            feats = token.words[0].feats\n",
    "            if feats:\n",
    "                for ft in feats.split('|'):\n",
    "                    feat_name, feat_value = ft.split('=')\n",
    "                    tok_dict[feat_name.lower()] = feat_value.lower()\n",
    "                    # features.append(feat_name)\n",
    "            tok_info.append(tok_dict)\n",
    "    return tok_info"
   ]
  },
  {
   "cell_type": "code",
   "execution_count": 22,
   "id": "9db7fc60",
   "metadata": {},
   "outputs": [
    {
     "data": {
      "text/plain": [
       "[{'text': 'Это',\n",
       "  'pos': 'PRON',\n",
       "  'lemma': 'это',\n",
       "  'animacy': 'inan',\n",
       "  'case': 'nom',\n",
       "  'gender': 'neut',\n",
       "  'number': 'sing'},\n",
       " {'text': 'тестовое',\n",
       "  'pos': 'ADJ',\n",
       "  'lemma': 'тестовой',\n",
       "  'case': 'nom',\n",
       "  'degree': 'pos',\n",
       "  'gender': 'neut',\n",
       "  'number': 'sing'},\n",
       " {'text': 'предложение',\n",
       "  'pos': 'NOUN',\n",
       "  'lemma': 'предложение',\n",
       "  'animacy': 'inan',\n",
       "  'case': 'nom',\n",
       "  'gender': 'neut',\n",
       "  'number': 'sing'},\n",
       " {'text': '.', 'pos': 'PUNCT', 'lemma': '.'}]"
      ]
     },
     "execution_count": 22,
     "metadata": {},
     "output_type": "execute_result"
    }
   ],
   "source": [
    "parse_with_stanza(nlp, 'Это тестовое предложение.')"
   ]
  },
  {
   "cell_type": "code",
   "execution_count": 23,
   "id": "9505dbde",
   "metadata": {},
   "outputs": [],
   "source": [
    "def insert_sentence_and_lemmas(nlp, sentence):\n",
    "\n",
    "    # словарь с информацией о предложении\n",
    "    sent_dict = sentence.to_dict()\n",
    "\n",
    "    # записываем в коллекцию предложений\n",
    "    sent_id = sentences.insert_one(sent_dict).inserted_id\n",
    "\n",
    "    # получаем информацию о токенах предложения\n",
    "    token_info = parse_with_stanza(nlp, sentence.text)\n",
    "\n",
    "    # добавляем токены и леммы\n",
    "    for token in token_info:\n",
    "\n",
    "        # добавляем леммы / обновляем их частоту\n",
    "        found_lemma = lemmas.find_one({'lemma': token['lemma'], 'pos': token['pos']})\n",
    "        if found_lemma:\n",
    "            lemma_id = found_lemma['_id']\n",
    "            lemmas.find_one_and_update({'_id': lemma_id},\n",
    "                                       {'$inc': {'freq': 1},\n",
    "                                        '$addToSet': {'docs': sent_id},\n",
    "                                        '$push': {'docs_freq': sent_id}})\n",
    "        else:\n",
    "            info_to_add = {'lemma': token['lemma'],\n",
    "                           'pos': token['pos'],\n",
    "                           'freq': 1,\n",
    "                           'docs': [sent_id],\n",
    "                           'docs_freq': [sent_id]}\n",
    "            lemma_id = lemmas.insert_one(info_to_add).inserted_id\n",
    "\n",
    "        # добавляем токены\n",
    "        found_token = tokens.find_one(token)\n",
    "        if found_token:\n",
    "            token_id = found_token['_id']\n",
    "            tokens.find_one_and_update({'_id': token_id},\n",
    "                                       {'$inc': {'freq': 1},\n",
    "                                        '$addToSet': {'docs': sent_id},\n",
    "                                        '$push': {'docs_freq': sent_id}})\n",
    "        else:\n",
    "            info_to_add = token\n",
    "            info_to_add['freq'] = 1\n",
    "            info_to_add['docs'] = [sent_id]\n",
    "            info_to_add['docs_freq'] = [sent_id]\n",
    "            token_id = tokens.insert_one(info_to_add).inserted_id"
   ]
  },
  {
   "cell_type": "code",
   "execution_count": 24,
   "id": "be87d1ff",
   "metadata": {},
   "outputs": [
    {
     "data": {
      "application/vnd.jupyter.widget-view+json": {
       "model_id": "0e47976175764c7882f7605f7feec584",
       "version_major": 2,
       "version_minor": 0
      },
      "text/plain": [
       "  0%|          | 0/723 [00:00<?, ?it/s]"
      ]
     },
     "metadata": {},
     "output_type": "display_data"
    }
   ],
   "source": [
    "for sentence in tqdm(sentence_list):\n",
    "    insert_sentence_and_lemmas(nlp, sentence)"
   ]
  },
  {
   "cell_type": "code",
   "execution_count": 25,
   "id": "46247fef",
   "metadata": {},
   "outputs": [
    {
     "data": {
      "text/plain": [
       "723"
      ]
     },
     "execution_count": 25,
     "metadata": {},
     "output_type": "execute_result"
    }
   ],
   "source": [
    "sentences.count_documents({})"
   ]
  },
  {
   "cell_type": "code",
   "execution_count": 26,
   "id": "4f12d472",
   "metadata": {},
   "outputs": [
    {
     "data": {
      "text/plain": [
       "4358"
      ]
     },
     "execution_count": 26,
     "metadata": {},
     "output_type": "execute_result"
    }
   ],
   "source": [
    "lemmas.count_documents({})"
   ]
  },
  {
   "cell_type": "code",
   "execution_count": 27,
   "id": "436e6e78",
   "metadata": {},
   "outputs": [
    {
     "data": {
      "text/plain": [
       "6604"
      ]
     },
     "execution_count": 27,
     "metadata": {},
     "output_type": "execute_result"
    }
   ],
   "source": [
    "tokens.count_documents({})"
   ]
  },
  {
   "cell_type": "markdown",
   "id": "75cd74b6",
   "metadata": {},
   "source": [
    "### CRUD: приставки\n",
    "Внесение в базу новых приставок и их значений должно выполняться вручную, потому что их достаточно мало и важна высокая точность.\n",
    "\n",
    "Перед добавлением значения мы хотим посмотреть, есть ли приставка в базе и какие значения она имеет."
   ]
  },
  {
   "cell_type": "code",
   "execution_count": 28,
   "id": "899a860a",
   "metadata": {},
   "outputs": [],
   "source": [
    "def read_and_update_prefixes(prefix_name, insert=False, update=False):\n",
    "\n",
    "    if prefixes.count_documents({'prefix_name': prefix_name}) == 0:\n",
    "        if not insert:\n",
    "            print('Приставка не найдена!')\n",
    "        else:\n",
    "            new_senses = []\n",
    "            while True:\n",
    "                a_sense = input('Введите значение приставки или нажмите Enter для выхода из цикла записи: ')\n",
    "                if a_sense == '':\n",
    "                    break\n",
    "                else:\n",
    "                    new_sense.append(a_sense)\n",
    "            prefix = Prefix(prefix_name, new_senses)\n",
    "            prefixes.insert_one(prefix.to_dict())\n",
    "\n",
    "    else:\n",
    "        prefix = prefixes.find_one({'prefix_name': prefix_name})\n",
    "        pprint(prefix['senses'])\n",
    "\n",
    "        if update:\n",
    "            # добавляем новые значения -- в цикле, т.к. их может быть сколько угодно\n",
    "            while True:\n",
    "                new_sense = input('Введите новое значение приставки или нажмите Enter для выхода из цикла записи: ')\n",
    "                if new_sense == '':\n",
    "                    break\n",
    "                else:\n",
    "                    prefixes.find_one_and_update({'_id': prefix['_id']},\n",
    "                                                  {'$addToSet': {'senses': new_sense}})"
   ]
  },
  {
   "cell_type": "code",
   "execution_count": 49,
   "id": "e98c0099",
   "metadata": {},
   "outputs": [
    {
     "name": "stdout",
     "output_type": "stream",
     "text": [
      "['доведения действия до конечной цели, напр. приехать, приблизиться, '\n",
      " 'прибрести, приплестись;',\n",
      " 'добавления, сближения, скрепления чего-н. с чем-н., напр. приземлить, '\n",
      " 'пристроить, приделать, припечатать, приложить, привинтить;',\n",
      " 'направления действия к себе, совершения действия в своих интересах, напр. '\n",
      " 'пригласить, присвоить;',\n",
      " 'в сочетании с постфиксом -ся - освоенности действия, напр. прижиться, '\n",
      " 'принюхаться, приспособиться, приноровиться;',\n",
      " 'направления действия на предмет сверху вниз, напр. придавить, прижать;',\n",
      " 'полноты, законченности действия, напр. приучить, приохотить;',\n",
      " 'неполной, слабой меры действия, напр. привстать, прихворнуть, прикопить, '\n",
      " 'припудрить, приутихнуть, приоткрыть;',\n",
      " 'вместе с суффиксами -ыва-, -ива- - сопутствующего действия, напр. '\n",
      " 'приговаривать, приплясывать.']\n",
      "Введите новое значение приставки или нажмите Enter для выхода из цикла записи: какое-то значение\n",
      "Введите новое значение приставки или нажмите Enter для выхода из цикла записи: \n"
     ]
    }
   ],
   "source": [
    "read_and_update_prefixes('при', update=True)"
   ]
  },
  {
   "cell_type": "code",
   "execution_count": 50,
   "id": "dca363a5",
   "metadata": {},
   "outputs": [
    {
     "name": "stdout",
     "output_type": "stream",
     "text": [
      "['доведения действия до конечной цели, напр. приехать, приблизиться, '\n",
      " 'прибрести, приплестись;',\n",
      " 'добавления, сближения, скрепления чего-н. с чем-н., напр. приземлить, '\n",
      " 'пристроить, приделать, припечатать, приложить, привинтить;',\n",
      " 'направления действия к себе, совершения действия в своих интересах, напр. '\n",
      " 'пригласить, присвоить;',\n",
      " 'в сочетании с постфиксом -ся - освоенности действия, напр. прижиться, '\n",
      " 'принюхаться, приспособиться, приноровиться;',\n",
      " 'направления действия на предмет сверху вниз, напр. придавить, прижать;',\n",
      " 'полноты, законченности действия, напр. приучить, приохотить;',\n",
      " 'неполной, слабой меры действия, напр. привстать, прихворнуть, прикопить, '\n",
      " 'припудрить, приутихнуть, приоткрыть;',\n",
      " 'вместе с суффиксами -ыва-, -ива- - сопутствующего действия, напр. '\n",
      " 'приговаривать, приплясывать.',\n",
      " 'какое-то значение']\n"
     ]
    }
   ],
   "source": [
    "read_and_update_prefixes('при')"
   ]
  },
  {
   "cell_type": "code",
   "execution_count": 30,
   "id": "25e9ea0d",
   "metadata": {},
   "outputs": [],
   "source": [
    "def delete_prefix(prefix_name):\n",
    "\n",
    "    if prefixes.count_documents({'prefix_name': prefix_name}) == 0:\n",
    "        print('Приставки нет в базе!')\n",
    "\n",
    "    else:\n",
    "        prefixes.delete_one({'prefix_name': prefix_name})"
   ]
  },
  {
   "cell_type": "code",
   "execution_count": 51,
   "id": "2a38bf0d",
   "metadata": {},
   "outputs": [],
   "source": [
    "delete_prefix('при')"
   ]
  },
  {
   "cell_type": "code",
   "execution_count": 32,
   "id": "89ee57f3",
   "metadata": {},
   "outputs": [],
   "source": [
    "def delete_senses(prefix_name):\n",
    "\n",
    "    if prefixes.count_documents({'prefix_name': prefix_name}) == 0:\n",
    "        print('Приставки нет в базе!')\n",
    "\n",
    "    else:\n",
    "        prefix = prefixes.find_one({'prefix_name': prefix_name})\n",
    "        for i, sense in enumerate(prefix['senses']):\n",
    "            print(str(i) + ') ' + sense)\n",
    "        while True:\n",
    "            ind_to_del = input('Введите номер значения, которое нужно удалить, или Enter для выхода из цикла: ')\n",
    "            if ind_to_del == '':\n",
    "                break\n",
    "            else:\n",
    "                prefixes.find_one_and_update({'prefix_name': prefix_name},\n",
    "                                             {'$unset': {'senses.{}'.format(int(ind_to_del)): 1}})\n",
    "                prefixes.find_one_and_update({'prefix_name': prefix_name},\n",
    "                                             {'$pull': {'senses': None}})"
   ]
  },
  {
   "cell_type": "code",
   "execution_count": 52,
   "id": "d07aa25f",
   "metadata": {},
   "outputs": [
    {
     "name": "stdout",
     "output_type": "stream",
     "text": [
      "0) направленности действия на что-н., напр. накинуть, -накатить, налететь, набросить;\n",
      "1) полноты действия и большого количества его объектов, напр. наговорить, накупить, народить, напрясть, накомкать, накидать;\n",
      "2) проявления действия в незначительной степени, слабо, неинтенсивно, напр. напевать, наигрывать, насвистывать, накрапывать;\n",
      "3) с постфиксом \"ся\" - полной завершенности действия, удовлетворенности им, напр. наесться, навоеваться, нашалиться;\n",
      "4) тщательности или интенсивности действия, напр. начистить (пуговицы), нагладить (рубашку), наговаривать, названивать;\n",
      "5) приучения к действию, напр. натренировать, наездить (лошадь), намуштровать;\n",
      "6) собственно предела действия, напр. написать, нарисовать, начертить, намочить, насмешить, напугать.\n",
      "Введите номер значения, которое нужно удалить, или Enter для выхода из цикла: 5\n",
      "Введите номер значения, которое нужно удалить, или Enter для выхода из цикла: \n"
     ]
    }
   ],
   "source": [
    "delete_senses('на')"
   ]
  },
  {
   "cell_type": "code",
   "execution_count": 53,
   "id": "4cce00c4",
   "metadata": {},
   "outputs": [
    {
     "name": "stdout",
     "output_type": "stream",
     "text": [
      "['направленности действия на что-н., напр. накинуть, -накатить, налететь, '\n",
      " 'набросить;',\n",
      " 'полноты действия и большого количества его объектов, напр. наговорить, '\n",
      " 'накупить, народить, напрясть, накомкать, накидать;',\n",
      " 'проявления действия в незначительной степени, слабо, неинтенсивно, напр. '\n",
      " 'напевать, наигрывать, насвистывать, накрапывать;',\n",
      " 'с постфиксом \"ся\" - полной завершенности действия, удовлетворенности им, '\n",
      " 'напр. наесться, навоеваться, нашалиться;',\n",
      " 'тщательности или интенсивности действия, напр. начистить (пуговицы), '\n",
      " 'нагладить (рубашку), наговаривать, названивать;',\n",
      " 'собственно предела действия, напр. написать, нарисовать, начертить, '\n",
      " 'намочить, насмешить, напугать.']\n",
      "Введите новое значение приставки или нажмите Enter для выхода из цикла записи: \n"
     ]
    }
   ],
   "source": [
    "read_and_update_prefixes('на', update=True)"
   ]
  },
  {
   "cell_type": "markdown",
   "id": "f940a5cd",
   "metadata": {},
   "source": [
    "### Поиск по леммам\n",
    "\n",
    "Одна из подзадач диплома -- поиск глаголов с разными приставками в разных периодах (это позволит проанализировать частотность, сочетаемость и другие признаки семантического сдвига).\n",
    "\n",
    "✔ сортировка, регулярные выражения\n",
    "\n",
    "✔ match, project"
   ]
  },
  {
   "cell_type": "code",
   "execution_count": 34,
   "id": "32e13bee",
   "metadata": {},
   "outputs": [],
   "source": [
    "def find_verbs_with_prefix(prefix_name):\n",
    "    regexp = '^{}'.format(prefix_name)\n",
    "    found = lemmas.find({'lemma': {'$regex': regexp}, 'pos': 'VERB'},\n",
    "                        {'lemma': True, 'freq': True, '_id': False},\n",
    "                        limit=10).sort('freq', -1)\n",
    "    for verb in found:\n",
    "        print(verb)"
   ]
  },
  {
   "cell_type": "code",
   "execution_count": 35,
   "id": "3e5b0ea0",
   "metadata": {},
   "outputs": [
    {
     "name": "stdout",
     "output_type": "stream",
     "text": [
      "{'lemma': 'приехать', 'freq': 733}\n",
      "{'lemma': 'привезти', 'freq': 16}\n",
      "{'lemma': 'прийти', 'freq': 12}\n",
      "{'lemma': 'прийтись', 'freq': 6}\n",
      "{'lemma': 'приезжать', 'freq': 6}\n",
      "{'lemma': 'принять', 'freq': 6}\n",
      "{'lemma': 'пригласить', 'freq': 5}\n",
      "{'lemma': 'приготовить', 'freq': 4}\n",
      "{'lemma': 'привести', 'freq': 3}\n",
      "{'lemma': 'привыкнуть', 'freq': 2}\n"
     ]
    }
   ],
   "source": [
    "find_verbs_with_prefix('при')"
   ]
  },
  {
   "cell_type": "markdown",
   "id": "8ddf29d6",
   "metadata": {},
   "source": [
    "Еще может быть нужно получать возвратные глаголы, поскольку это может говорить о сочетаемости приставок. Допустим, мы хотим проверить, употреблялась ли приставка \"на\" в составе возвратных глаголов в досоветский период."
   ]
  },
  {
   "cell_type": "code",
   "execution_count": 36,
   "id": "3fc83dd8",
   "metadata": {},
   "outputs": [],
   "source": [
    "map_period = {0: 'pre-Soviet',\n",
    "              1: 'Soviet',\n",
    "              2: 'post-Soviet'}"
   ]
  },
  {
   "cell_type": "code",
   "execution_count": 58,
   "id": "57378025",
   "metadata": {},
   "outputs": [],
   "source": [
    "def search_lemmas_by_period(prefix_name='', suffix_name='',\n",
    "                            pos='VERB', n_results=10, period=None,\n",
    "                            map_period=map_period):\n",
    "\n",
    "    regexp = '^{}.*{}$'.format(prefix_name, suffix_name)\n",
    "\n",
    "    # по умолчанию  выполняет поиск по всему корпусу\n",
    "    if period is None:\n",
    "        found = lemmas.find({'lemma': {'$regex': regexp}, 'pos': pos},\n",
    "                            {'lemma': True, 'freq': True, '_id': False},\n",
    "                            limit=n_results).sort('freq', -1)\n",
    "    else:\n",
    "        if period not in list(map_period.keys()):\n",
    "            print('Неверно указан период. Доступные значения:')\n",
    "            pprint(map_period)\n",
    "            return\n",
    "        # сначала узнаем, какие тексты относятся к нужному периоду\n",
    "        sents_by_period = [sent['_id'] for sent in sentences.find({'period': period})]\n",
    "        # теперь ищем леммы, которые встречаются в нужном подкорпусе, и получаем их частотность\n",
    "        found = lemmas.aggregate([\n",
    "            {'$match': {'lemma': {'$regex': regexp}, 'pos': pos, 'docs': {'$in': sents_by_period}}},\n",
    "            {'$project': {'lemma': '$lemma',\n",
    "                          'count': {'$size': '$docs_freq'},\n",
    "                          '_id': 0}},\n",
    "            {'$limit': n_results}\n",
    "        ])\n",
    "\n",
    "    for verb in found:\n",
    "        print(verb)"
   ]
  },
  {
   "cell_type": "code",
   "execution_count": 62,
   "id": "02012c0d",
   "metadata": {},
   "outputs": [
    {
     "name": "stdout",
     "output_type": "stream",
     "text": [
      "{'lemma': 'найти', 'freq': 5}\n",
      "{'lemma': 'начаться', 'freq': 5}\n",
      "{'lemma': 'начать', 'freq': 5}\n",
      "{'lemma': 'назначить', 'freq': 4}\n",
      "{'lemma': 'находиться', 'freq': 4}\n",
      "{'lemma': 'называть', 'freq': 3}\n",
      "{'lemma': 'начинать', 'freq': 2}\n",
      "{'lemma': 'навезти', 'freq': 2}\n",
      "{'lemma': 'надеяться', 'freq': 2}\n",
      "{'lemma': 'навестить', 'freq': 2}\n"
     ]
    }
   ],
   "source": [
    "search_lemmas_by_period('на')"
   ]
  },
  {
   "cell_type": "code",
   "execution_count": 64,
   "id": "f01a28a2",
   "metadata": {},
   "outputs": [
    {
     "name": "stdout",
     "output_type": "stream",
     "text": [
      "{'lemma': 'наварить', 'count': 1}\n",
      "{'lemma': 'навезти', 'count': 2}\n",
      "{'lemma': 'навестить', 'count': 2}\n",
      "{'lemma': 'надеть', 'count': 1}\n",
      "{'lemma': 'надуваться', 'count': 1}\n",
      "{'lemma': 'называть', 'count': 3}\n",
      "{'lemma': 'называться', 'count': 1}\n",
      "{'lemma': 'накопить', 'count': 1}\n",
      "{'lemma': 'накупить', 'count': 1}\n",
      "{'lemma': 'напоминать', 'count': 1}\n"
     ]
    }
   ],
   "source": [
    "search_lemmas_by_period('на', period=2)"
   ]
  },
  {
   "cell_type": "markdown",
   "id": "dfa8cf69",
   "metadata": {},
   "source": [
    "### Группировка по жанру и подсчет предложений\n",
    "Создатели обещают, что датасеты \"очень сбалансированы по разным параметрам\". Проверим, так ли это.\n",
    "\n",
    "✔ агрегация, группировка, сортировка"
   ]
  },
  {
   "cell_type": "code",
   "execution_count": 40,
   "id": "103a13f3",
   "metadata": {},
   "outputs": [],
   "source": [
    "def aggregate_sentences_by(param):\n",
    "    for item in sentences.aggregate([\n",
    "        {'$group': {'_id': {'status': f'${param}'}, 'count': {'$sum': 1}}},\n",
    "        {'$sort': {'count': -1}},\n",
    "        {'$limit': 10}]):\n",
    "        print(item)"
   ]
  },
  {
   "cell_type": "code",
   "execution_count": 41,
   "id": "18cf3ff7",
   "metadata": {
    "scrolled": true
   },
   "outputs": [
    {
     "name": "stdout",
     "output_type": "stream",
     "text": [
      "{'_id': {'status': 'книга'}, 'count': 389}\n",
      "{'_id': {'status': 'журнал'}, 'count': 202}\n",
      "{'_id': {'status': 'газета'}, 'count': 96}\n",
      "{'_id': {'status': 'электронный текст'}, 'count': 28}\n",
      "{'_id': {'status': 'рукопись'}, 'count': 7}\n",
      "{'_id': {'status': 'электронное издание'}, 'count': 1}\n"
     ]
    }
   ],
   "source": [
    "aggregate_sentences_by('medium')"
   ]
  },
  {
   "cell_type": "code",
   "execution_count": 42,
   "id": "cf74d776",
   "metadata": {},
   "outputs": [
    {
     "name": "stdout",
     "output_type": "stream",
     "text": [
      "{'_id': {'status': 'художественная'}, 'count': 450}\n",
      "{'_id': {'status': 'публицистика'}, 'count': 225}\n",
      "{'_id': {'status': 'электронная коммуникация'}, 'count': 22}\n",
      "{'_id': {'status': 'учебно-научная'}, 'count': 10}\n",
      "{'_id': {'status': 'реклама'}, 'count': 7}\n",
      "{'_id': {'status': 'бытовая'}, 'count': 5}\n",
      "{'_id': {'status': 'церковно-богословская'}, 'count': 3}\n",
      "{'_id': {'status': 'официально-деловая'}, 'count': 1}\n"
     ]
    }
   ],
   "source": [
    "aggregate_sentences_by('sphere')"
   ]
  },
  {
   "cell_type": "markdown",
   "id": "71e4d7eb",
   "metadata": {},
   "source": [
    "Представим в виде графика для наглядности:"
   ]
  },
  {
   "cell_type": "code",
   "execution_count": 43,
   "id": "a37ea9f0",
   "metadata": {
    "scrolled": true
   },
   "outputs": [
    {
     "data": {
      "image/png": "[encoded data removed]",
      "text/plain": [
       "<Figure size 432x288 with 1 Axes>"
      ]
     },
     "metadata": {
      "needs_background": "light"
     },
     "output_type": "display_data"
    }
   ],
   "source": [
    "x_values, y_values = [], []\n",
    "for item in sentences.aggregate([\n",
    "    {'$group': {'_id': {'status': '$sphere'}, 'count': {'$sum': 1}}},\n",
    "    {'$sort': {'count': -1}},\n",
    "    {'$limit': 10}]):\n",
    "\n",
    "    x_values.append(item['_id']['status'])\n",
    "    y_values.append(item['count'])\n",
    "\n",
    "fig = plt.figure()\n",
    "ax = fig.add_axes([0, 0, 1, 1])\n",
    "bars = ax.bar(x_values, y_values)\n",
    "ax.bar_label(bars)\n",
    "plt.xticks(rotation=90)\n",
    "plt.show()"
   ]
  },
  {
   "cell_type": "markdown",
   "id": "bdcf75d9",
   "metadata": {},
   "source": [
    "### Полнотекстовый поиск\n",
    "✔ работа с текстом\n",
    "\n",
    "Это похоже на то, что было на паре, но поиск более продвинутый и user-friendly."
   ]
  },
  {
   "cell_type": "code",
   "execution_count": 44,
   "id": "84d08ca3",
   "metadata": {},
   "outputs": [],
   "source": [
    "def search_word(word, n_sents, by_lemma=False, by_token=True,\n",
    "                pos=None, animacy=None, aspect=None, case=None,\n",
    "                degree=None, foreign=None, gender=None, mood=None,\n",
    "                number=None, person=None, polarity=None, tense=None,\n",
    "                variant=None, verbform=None, voice=None):\n",
    "\n",
    "    seen_in = []\n",
    "\n",
    "    # поиск предложений, где есть данная лемма\n",
    "    if by_lemma:\n",
    "        # словарь параметров для поиска\n",
    "        to_search = {'lemma': word}\n",
    "        if pos is not None:\n",
    "            to_search['pos'] = pos\n",
    "        # проверка, что такая(ие) лемма(ы) есть\n",
    "        if lemmas.count_documents(to_search) > 0:\n",
    "            for lemma in lemmas.find(to_search):\n",
    "                seen_in.extend(lemma['docs'])\n",
    "        else:\n",
    "            print('Извините, лемма не найдена.')\n",
    "            return\n",
    "\n",
    "    # поиск предложений, где есть данный токен\n",
    "    elif by_token:\n",
    "        features = {'pos': pos, 'animacy': animacy, 'aspect': aspect,\n",
    "                    'case': case, 'degree': degree, 'foreign': foreign,\n",
    "                    'gender': gender, 'mood': mood, 'number': number,\n",
    "                    'person': person, 'polarity': polarity, 'tense': tense,\n",
    "                    'variant': variant, 'verbform': verbform, 'voice': voice,\n",
    "                    'text': word}\n",
    "        to_search = {k: v for k, v in features.items() if v is not None}\n",
    "        if tokens.count_documents(to_search) > 0:\n",
    "            for token in tokens.find(to_search):\n",
    "                seen_in.extend(token['docs'])\n",
    "        else:\n",
    "            print('Извините, словоформа не найдена.')\n",
    "            return\n",
    "\n",
    "    # выводим нужное число результатов\n",
    "    seen_in = list(set(seen_in))\n",
    "    for doc in sentences.find({'_id': {'$in': seen_in}}).limit(n_sents):\n",
    "        print(doc)"
   ]
  },
  {
   "cell_type": "code",
   "execution_count": 66,
   "id": "5fcca3bc",
   "metadata": {},
   "outputs": [
    {
     "name": "stdout",
     "output_type": "stream",
     "text": [
      "{'_id': ObjectId('62458b86fa28fb86d8292f75'), 'author': 'коллективный', 'header': 'Форум: комментарии к фильму «Все будет хорошо»', 'sphere': 'электронная коммуникация', 'ttype': 'комментарии', 'topic': ['досуг, зрелища и развлечения', 'искусство и культура'], 'medium': 'электронный текст', 'text': '[awesom13]  Каждая семья здесь имеет свою историю, от которых сердце кровью обливается: Одинокий парализованный дедушка, потерявший любимую жену полтора десятилетия назад и вспоминающий о своей спортивной молодости; Бывший десантник, любящий своих жену и сына, но находящийся не в состоянии окружить их заботой и любовью из-за пристрастия к спиртному; Музыкант, которого и мужем - то стесняется назвать женщина, горюющая из-за беспросветно прожитых «лучших» годах жизни; Молодая пара, мечтающая о детях и счастливой жизни, но видящая своё будущее лишь в работе на заводе ради собственного жилья; девушка, ждущая обещавшего приехать за ней прославившегося музыканта на белом «мерседесе»… Подобно взрыву в тихом водоеме в городе появляются представители «другой жизни» — миллионер с сыном - ученым, а также богатый японец — люди порядочные и мудрые.', 'period': 0}\n",
      "{'_id': ObjectId('62458b87fa28fb86d8293032'), 'author': 'коллективный', 'header': 'Форум: комментарии к фильму «Все будет хорошо»', 'sphere': 'электронная коммуникация', 'ttype': 'комментарии', 'topic': ['досуг, зрелища и развлечения', 'искусство и культура'], 'medium': 'электронный текст', 'text': '[awesom13]  Но некоторые из героев всё-таки имеют мечту и используют шансы: дедушку, который так мужественно и эффектно смог всё-таки приехать к любимой женщине и воплотить свою мечту; амбициозный музыкант смог - таки прорваться на эстраду и подарить любимой девушке «другую жизнь»; молодая и красивая девушка смогла - таки со скрежетом кошек на душе покинуть грязную провинцию ради красивой и обеспеченной жизни в стране, «воплощающей мечты в реальность» — и винить её мы не имеем права!', 'period': 0}\n",
      "{'_id': ObjectId('62458b88fa28fb86d82930c4'), 'author': 'Евгений Гришковец', 'header': 'ОдноврЕмЕнно', 'sphere': 'художественная', 'ttype': 'пьеса', 'topic': nan, 'medium': 'книга', 'text': 'Просто чтобы это почувствовать и чтобы ещё получить от этого удовольствие, надо к ним приехать…', 'period': 0}\n",
      "{'_id': ObjectId('62458b8afa28fb86d82931ca'), 'author': nan, 'header': 'Надежда Шагрова: «Я -- мал» ищет единомышленников', 'sphere': 'публицистика', 'ttype': 'интервью', 'topic': ['искусство и культура'], 'medium': 'газета', 'text': 'Прежде, чем приехать, они проходили строгий отбор, ведь Новый Уренгой был закрытым посёлком.', 'period': 0}\n",
      "{'_id': ObjectId('62458b8dfa28fb86d8293325'), 'author': nan, 'header': 'Смс-сообщения старших школьников', 'sphere': 'бытовая', 'ttype': 'смс-сообщение', 'topic': ['частная жизнь'], 'medium': 'электронный текст', 'text': 'Тебе надо будет ко мне на Бауманскую приехать.', 'period': 0}\n"
     ]
    }
   ],
   "source": [
    "search_word('приехать', 5, by_token=True)"
   ]
  },
  {
   "cell_type": "markdown",
   "id": "c72c97f1",
   "metadata": {},
   "source": [
    "### Подсчет частотности приставок\n",
    "#### Шаг 1: для каждой приставки найти леммы, в состав которых она входит, и сохранить эту информацию"
   ]
  },
  {
   "cell_type": "code",
   "execution_count": 46,
   "id": "38cf763b",
   "metadata": {},
   "outputs": [],
   "source": [
    "for prefix in prefixes.find({}):\n",
    "    prefix_name = prefix['prefix_name']\n",
    "    prefix_id = prefix['_id']\n",
    "    regexp = '^{}'.format(prefix_name)\n",
    "    found_in = [lemma['_id'] for lemma in lemmas.find({'lemma': {'$regex': regexp},\n",
    "                                                       'pos': 'VERB'})]\n",
    "    prefixes.find_one_and_update({'_id': prefix_id}, {'$set': {'found_in': found_in}})"
   ]
  },
  {
   "cell_type": "code",
   "execution_count": 47,
   "id": "5d2c0e10",
   "metadata": {},
   "outputs": [
    {
     "data": {
      "text/plain": [
       "{'_id': ObjectId('62458b81fa28fb86d8292edd'),\n",
       " 'prefix_name': 'на',\n",
       " 'senses': ['направленности действия на что-н., напр. накинуть, -накатить, налететь, набросить;',\n",
       "  'полноты действия и большого количества его объектов, напр. наговорить, накупить, народить, напрясть, накомкать, накидать;',\n",
       "  'проявления действия в незначительной степени, слабо, неинтенсивно, напр. напевать, наигрывать, насвистывать, накрапывать;',\n",
       "  'с постфиксом \"ся\" - полной завершенности действия, удовлетворенности им, напр. наесться, навоеваться, нашалиться;',\n",
       "  'тщательности или интенсивности действия, напр. начистить (пуговицы), нагладить (рубашку), наговаривать, названивать;',\n",
       "  'приучения к действию, напр. натренировать, наездить (лошадь), намуштровать;',\n",
       "  'собственно предела действия, напр. написать, нарисовать, начертить, намочить, насмешить, напугать.'],\n",
       " 'found_in': [ObjectId('62458bf6fa28fb86d8294d3c'),\n",
       "  ObjectId('62458bf3fa28fb86d8294c79'),\n",
       "  ObjectId('62458baefa28fb86d8293d9e'),\n",
       "  ObjectId('62458be7fa28fb86d82949d1'),\n",
       "  ObjectId('62458c28fa28fb86d82955cc'),\n",
       "  ObjectId('62458c13fa28fb86d829525c'),\n",
       "  ObjectId('62458babfa28fb86d8293cb2'),\n",
       "  ObjectId('62458c09fa28fb86d82950b3'),\n",
       "  ObjectId('62458c3dfa28fb86d829590c'),\n",
       "  ObjectId('62458b8cfa28fb86d82932ba'),\n",
       "  ObjectId('62458c1bfa28fb86d8295388'),\n",
       "  ObjectId('62458b8cfa28fb86d8293285'),\n",
       "  ObjectId('62458b87fa28fb86d8292fcd'),\n",
       "  ObjectId('62458b9cfa28fb86d82938bd'),\n",
       "  ObjectId('62458ba1fa28fb86d8293a4d'),\n",
       "  ObjectId('62458c20fa28fb86d8295475'),\n",
       "  ObjectId('62458b9afa28fb86d829381d'),\n",
       "  ObjectId('62458bb1fa28fb86d8293e5a'),\n",
       "  ObjectId('62458b9efa28fb86d829394b'),\n",
       "  ObjectId('62458b8dfa28fb86d82932ce'),\n",
       "  ObjectId('62458c27fa28fb86d829558f'),\n",
       "  ObjectId('62458bf6fa28fb86d8294d38'),\n",
       "  ObjectId('62458be7fa28fb86d82949dd'),\n",
       "  ObjectId('62458c14fa28fb86d8295262'),\n",
       "  ObjectId('62458b8dfa28fb86d82932cc'),\n",
       "  ObjectId('62458bf7fa28fb86d8294d77'),\n",
       "  ObjectId('62458bfdfa28fb86d8294e76'),\n",
       "  ObjectId('62458c48fa28fb86d8295a95'),\n",
       "  ObjectId('62458b91fa28fb86d82934a6'),\n",
       "  ObjectId('62458bf4fa28fb86d8294cc8'),\n",
       "  ObjectId('62458c24fa28fb86d8295516'),\n",
       "  ObjectId('62458c32fa28fb86d8295712'),\n",
       "  ObjectId('62458bf7fa28fb86d8294d59'),\n",
       "  ObjectId('62458bddfa28fb86d829480b'),\n",
       "  ObjectId('62458bf8fa28fb86d8294d91'),\n",
       "  ObjectId('62458c4afa28fb86d8295ac5'),\n",
       "  ObjectId('62458bf3fa28fb86d8294c76'),\n",
       "  ObjectId('62458b87fa28fb86d8292fb0'),\n",
       "  ObjectId('62458bd2fa28fb86d8294627'),\n",
       "  ObjectId('62458ba7fa28fb86d8293bf4'),\n",
       "  ObjectId('62458badfa28fb86d8293d62'),\n",
       "  ObjectId('62458be7fa28fb86d82949bc'),\n",
       "  ObjectId('62458b8bfa28fb86d829324c'),\n",
       "  ObjectId('62458bd7fa28fb86d829471b')]}"
      ]
     },
     "execution_count": 47,
     "metadata": {},
     "output_type": "execute_result"
    }
   ],
   "source": [
    "prefixes.find_one({'prefix_name': 'на'})"
   ]
  },
  {
   "cell_type": "markdown",
   "id": "f77cc020",
   "metadata": {},
   "source": [
    "### Шаг 2: сложная конструкция с обращением к двум коллекциям\n",
    "✔ unwind, lookup, group, push"
   ]
  },
  {
   "cell_type": "code",
   "execution_count": 48,
   "id": "756a3890",
   "metadata": {},
   "outputs": [
    {
     "name": "stdout",
     "output_type": "stream",
     "text": [
      "при: 828 вхождений\n",
      "на: 68 вхождений\n",
      "с: 287 вхождений\n"
     ]
    }
   ],
   "source": [
    "for p in prefixes.aggregate([{'$unwind': '$found_in'},  # смотрим на поле \"леммы с приставкой\"\n",
    "                             # находим леммы в соответствующей коллекции\n",
    "                             {'$lookup': {'from': 'lemmas', 'localField': 'found_in',\n",
    "                                          'foreignField': '_id', 'as': 'lemmas_data'}},\n",
    "                             # собираем в массив\n",
    "                             {'$unwind': '$lemmas_data'},\n",
    "                             # группируем по id, сохраняем информацию\n",
    "                             {'$group': {'_id': '$_id',\n",
    "                                         'lemmas_data': {'$push': '$lemmas_data'}}},\n",
    "                             # выводим один результат\n",
    "                             # {'$limit': 1}\n",
    "                            ]):\n",
    "    prefix_freq = 0\n",
    "    for lemma in p['lemmas_data']:\n",
    "        prefix_freq += lemma['freq']\n",
    "    print(prefixes.find_one({'_id': p['_id']})['prefix_name'] +\\\n",
    "          ': {} вхождений'.format(prefix_freq))"
   ]
  }
 ],
 "metadata": {
  "kernelspec": {
   "display_name": "Python 3 (ipykernel)",
   "language": "python",
   "name": "python3"
  },
  "language_info": {
   "codemirror_mode": {
    "name": "ipython",
    "version": 3
   },
   "file_extension": ".py",
   "mimetype": "text/x-python",
   "name": "python",
   "nbconvert_exporter": "python",
   "pygments_lexer": "ipython3",
   "version": "3.9.7"
  }
 },
 "nbformat": 4,
 "nbformat_minor": 5
}
